{
 "cells": [
  {
   "cell_type": "code",
   "execution_count": 1,
   "metadata": {},
   "outputs": [
    {
     "name": "stdout",
     "output_type": "stream",
     "text": [
      "---Link Debug---\n",
      "Link: 1\n",
      "Bandwidth: 1333.333333\n",
      "Delay: 0.001000\n",
      "Queue Delay: 0.003000\n",
      "Max Queue Delay: 0.041250\n",
      "One Packet Queue Delay: 0.000750\n",
      "Link: 2\n",
      "Bandwidth: inf\n",
      "Delay: 0.001000\n",
      "Queue Delay: 0.000000\n",
      "Max Queue Delay: 0.000000\n",
      "One Packet Queue Delay: 0.000000\n",
      "---Sender Debug---\n",
      "Sender: 1\n",
      "Rate: inf\n",
      "Sent: 18247\n",
      "Acked: 18184\n",
      "Lost: 61\n",
      "Min Latency: 0.002\n",
      "Qoe : 441\n"
     ]
    }
   ],
   "source": [
    "%run run_reno.py"
   ]
  }
 ],
 "metadata": {
  "kernelspec": {
   "display_name": "Python 3",
   "language": "python",
   "name": "python3"
  },
  "language_info": {
   "codemirror_mode": {
    "name": "ipython",
    "version": 3
   },
   "file_extension": ".py",
   "mimetype": "text/x-python",
   "name": "python",
   "nbconvert_exporter": "python",
   "pygments_lexer": "ipython3",
   "version": "3.7.0"
  }
 },
 "nbformat": 4,
 "nbformat_minor": 2
}
